{
 "cells": [
  {
   "cell_type": "markdown",
   "metadata": {},
   "source": [
    "<center>\n",
    "    <img src=\"https://raw.githubusercontent.com/Carlos-Cita/Seguridad_de_la_informacion/main/Imagenes/seguridad.jpg\" width=\"300\" alt=\"cognitiveclass.ai logo\"  />\n",
    "</center>\n",
    "\n",
    "\n",
    "<h1 align=center><font size = 6 style=\"color:darkgrey;\"><i>Taller final: Seguridad de la información</font></h1>\n",
    "\n",
    "<h3 align=left><font size = 6 style=\"color:darkblue;\"><i>Presentado por:</font></h3>\n",
    "\n",
    "<ol>\n",
    "  <li>Luz Dary MArtínez Gacharná</li>\n",
    "  <li>Carlos Alberto Cita Romero</li>\n",
    "</ol>"
   ]
  },
  {
   "cell_type": "markdown",
   "metadata": {},
   "source": [
    "<h3 align=left><font size = 6 style=\"color:darkblue;\"><i>Objetivos</font></h3>\n",
    "\n",
    "Presentar los resultados obtenidos en los dos talleres propuestos para terminación del curso de seguridad de la información.\n",
    "\n",
    "<ol>\n",
    "  <li>Práctica de laboratorio: Hash</li>\n",
    "  <li>Práctica de laboratorio: Almacenamiento externo</li>\n",
    "  <li>Análisis artículo Ransomware</li>\n",
    "</ol>"
   ]
  },
  {
   "cell_type": "markdown",
   "metadata": {},
   "source": [
    "<h3 align=center><font size = 6 style=\"color:darkblue;\"><i>1. Práctica de laboratorio: Hash</font></h3>\n",
    "\n",
    "**Práctica de laboratorio: Comparar datos con un hash**\n",
    "\n",
    "**Objetivos**\n",
    "Use un programa de hash para comprobar la integridad de los datos.\n",
    "\n",
    "**Aspectos básicos/situación**\n",
    "Es importante saber si los datos fueron dañados o manipulados. Para comprobar si los datos fueron cambiados o si permanecen igual, puede usarse un programa de hash. Un programa de hash realiza una función hash en datos o en un archivo, lo cual devuelve un valor (generalmente, mucho más corto). Hay varias funciones hash distintas, algunas muy simples y otras muy complejas. Cuando se ejecuta el mismo hash en los mismos datos, el valor devuelto es siempre el mismo. Si se implementa algún cambio en los datos, el valor hash devuelto será diferente.\n",
    "\n",
    "**Nota:** Necesitará privilegios de instalación y algunos conocimientos sobre el proceso para instalar programas de Windows.\n",
    "\n",
    "**Recursos necesarios**\n",
    "Computadora con acceso a Internet\n",
    "\n",
    "**Paso 1:\tCrear un archivo de texto**\n",
    "\n",
    "<left>\n",
    "    <img src=\"https://raw.githubusercontent.com/Carlos-Cita/Seguridad_de_la_informacion/main/Imagenes/hash1.png\" width=\"600\" alt=\"cognitiveclass.ai logo\"  />\n",
    "</left>\n",
    "\n",
    "**Paso 2:\tSe realizó la instalación del software HASH**\n",
    "\n",
    "**Paso 3:\tCalcular un hash del archivo Hash.txt:** Haga clic en el botón Calcular. \n",
    "\n",
    "¿Cuál es el valor junto a MD5?\n",
    "\n",
    "*a5d30dedc61fe0f9aabe75a742a0bafb*\n",
    "\n",
    "<left>\n",
    "    <img src=\"https://raw.githubusercontent.com/Carlos-Cita/Seguridad_de_la_informacion/main/Imagenes/hash2.png\" width=\"400\" alt=\"cognitiveclass.ai logo\"  />\n",
    "</left>\n",
    "\n",
    "\n",
    "**Paso 4:\tHaga un cambio en el archivo Hash.txt:** Se realizó el cambio, generando un espacio al final del texto.\n",
    "\n",
    "\n",
    "**Paso 5:\tCalcule un nuevo hash del archivo Hash.txt:** Haga clic en el botón Calcular en HashCalc nuevamente.\n",
    "\n",
    "¿Cuál es el valor junto a MD5?\n",
    "\n",
    "*a1e191163833a3f473d2c84e7716f730*\n",
    "\n",
    "<left>\n",
    "    <img src=\"https://raw.githubusercontent.com/Carlos-Cita/Seguridad_de_la_informacion/main/Imagenes/hash3.png\" width=\"400\" alt=\"cognitiveclass.ai logo\"  />\n",
    "</left>\n",
    "\n",
    "Fíjese cómo muchos de los tipos de hash crean un hash de longitud diferente. ¿Por qué?\n",
    "\n",
    "<left>\n",
    "    <img src=\"https://raw.githubusercontent.com/Carlos-Cita/Seguridad_de_la_informacion/main/Imagenes/hash4.png\" width=\"600\" alt=\"cognitiveclass.ai logo\"  />\n",
    "</left>\n",
    "\n",
    "*La razón principal por la que las longitudes son diferentes, es por el tipo de encriptación que maneja cada tipo de hash, la más común contiene 40 caracteres y corresponde a SHA1.*"
   ]
  },
  {
   "cell_type": "markdown",
   "metadata": {},
   "source": [
    "<h3 align=center><font size = 6 style=\"color:darkblue;\"><i>2. Práctica de laboratorio: Almacenamiento externo</font></h3>\n",
    "\n",
    "**Laboratorio: Respaldar datos en un almacenamiento externo**\n",
    "\n",
    "**Objetivos**\n",
    "Respaldar datos de los usuarios.\n",
    "Parte 1: Use un disco externo local para respaldar los datos.\n",
    "Parte 2: Use un disco remoto para respaldar los datos.\n",
    "\t\n",
    "**Aspectos básicos/situación**\n",
    "Es importante establecer una estrategia de respaldos que incluya la recuperación de datos de archivos personales.\n",
    "\n",
    "Si bien hay muchas herramientas de respaldo, este laboratorio está centrado en la utilidad de respaldo de Microsoft para realizar respaldos en discos externos locales. En la Parte 2, este laboratorio usa el servicio Dropbox para realizar un respaldo de los datos en una unidad remota o basada en la nube.\n",
    "\n",
    "**Recursos necesarios**\n",
    "Computadora o dispositivo móvil con acceso a Internet\n",
    "\n",
    "**Parte 1:\tRespaldo en un disco externo local**\n"
   ]
  }
 ],
 "metadata": {
  "kernelspec": {
   "display_name": "Python 3.10.7 64-bit",
   "language": "python",
   "name": "python3"
  },
  "language_info": {
   "name": "python",
   "version": "3.10.7"
  },
  "orig_nbformat": 4,
  "vscode": {
   "interpreter": {
    "hash": "27f6fea6f47ae512550f0b8facdbd035a93e1dd89633f7bf2dd00a2502c71d0d"
   }
  }
 },
 "nbformat": 4,
 "nbformat_minor": 2
}
