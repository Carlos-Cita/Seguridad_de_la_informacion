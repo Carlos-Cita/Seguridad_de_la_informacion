{
 "cells": [
  {
   "cell_type": "markdown",
   "metadata": {},
   "source": [
    "[![Seguridad](/assets/images/seguridad.jpg \"Seguridad\")](https://github.com/Carlos-Cita/Seguridad_de_la_informacion/blob/main/Imagenes/seguridad.jpg)\n",
    "\n",
    "\n",
    "<h1 align=center><font size = 6 style=\"color:darkgrey;\"><i>Taller final: Seguridad de la información</font></h1>\n",
    "\n",
    "<h3 align=left><font size = 6 style=\"color:darkblue;\"><i>Presentado por:</font></h3>\n",
    "\n",
    "<ol>\n",
    "  <li>Luz Dary MArtínez Gacharná</li>\n",
    "  <li>Carlos Alberto Cita Romero</li>\n",
    "</ol>"
   ]
  },
  {
   "cell_type": "markdown",
   "metadata": {},
   "source": [
    "<h3 align=left><font size = 6 style=\"color:darkblue;\"><i>Objetivos</font></h3>\n",
    "\n",
    "Presentar los resultados obtenidos en los dos talleres propuestos para terminación del curso de seguridad de la información.\n",
    "\n",
    "<ol>\n",
    "  <li>Práctica de laboratorio: Hash</li>\n",
    "  <li>Práctica de laboratorio: Almacenamiento externo</li>\n",
    "  <li>Análisis artículo Ransomware</li>\n",
    "</ol>"
   ]
  },
  {
   "cell_type": "markdown",
   "metadata": {},
   "source": [
    "<h3 align=center><font size = 6 style=\"color:darkblue;\"><i>1. Práctica de laboratorio: Hash</font></h3>\n",
    "\n",
    "**Práctica de laboratorio: Comparar datos con un hash**\n",
    "\n",
    "**Objetivos**\n",
    "Use un programa de hash para comprobar la integridad de los datos.\n",
    "\n",
    "**Aspectos básicos/situación**\n",
    "Es importante saber si los datos fueron dañados o manipulados. Para comprobar si los datos fueron cambiados o si permanecen igual, puede usarse un programa de hash. Un programa de hash realiza una función hash en datos o en un archivo, lo cual devuelve un valor (generalmente, mucho más corto). Hay varias funciones hash distintas, algunas muy simples y otras muy complejas. Cuando se ejecuta el mismo hash en los mismos datos, el valor devuelto es siempre el mismo. Si se implementa algún cambio en los datos, el valor hash devuelto será diferente.\n",
    "\n",
    "**Nota:** Necesitará privilegios de instalación y algunos conocimientos sobre el proceso para instalar programas de Windows.\n",
    "\n",
    "**Recursos necesarios**\n",
    "Computadora con acceso a Internet\n",
    "\n",
    "**Paso 1:\tCrear un archivo de texto**\n"
   ]
  },
  {
   "cell_type": "code",
   "execution_count": null,
   "metadata": {},
   "outputs": [],
   "source": []
  }
 ],
 "metadata": {
  "kernelspec": {
   "display_name": "Python 3.10.7 64-bit",
   "language": "python",
   "name": "python3"
  },
  "language_info": {
   "name": "python",
   "version": "3.10.7"
  },
  "orig_nbformat": 4,
  "vscode": {
   "interpreter": {
    "hash": "27f6fea6f47ae512550f0b8facdbd035a93e1dd89633f7bf2dd00a2502c71d0d"
   }
  }
 },
 "nbformat": 4,
 "nbformat_minor": 2
}
